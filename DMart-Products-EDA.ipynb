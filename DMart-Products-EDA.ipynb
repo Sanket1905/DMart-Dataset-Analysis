{
 "cells": [
  {
   "cell_type": "markdown",
   "id": "c7625f83",
   "metadata": {
    "papermill": {
     "duration": 0.008357,
     "end_time": "2022-08-22T05:49:05.591024",
     "exception": false,
     "start_time": "2022-08-22T05:49:05.582667",
     "status": "completed"
    },
    "tags": []
   },
   "source": [
    "## Library Imports and Data loading"
   ]
  },
  {
   "cell_type": "code",
   "execution_count": 1,
   "id": "6c9d7b90",
   "metadata": {
    "execution": {
     "iopub.execute_input": "2022-08-22T05:49:05.608181Z",
     "iopub.status.busy": "2022-08-22T05:49:05.606888Z",
     "iopub.status.idle": "2022-08-22T05:49:06.797510Z",
     "shell.execute_reply": "2022-08-22T05:49:06.796465Z"
    },
    "papermill": {
     "duration": 1.202313,
     "end_time": "2022-08-22T05:49:06.800381",
     "exception": false,
     "start_time": "2022-08-22T05:49:05.598068",
     "status": "completed"
    },
    "tags": []
   },
   "outputs": [],
   "source": [
    "import warnings\n",
    "warnings.filterwarnings('ignore')\n",
    "import numpy as np\n",
    "import pandas as pd\n",
    "import matplotlib.pyplot as plt\n",
    "import seaborn as sns"
   ]
  },
  {
   "cell_type": "code",
   "execution_count": 2,
   "id": "1953d0b3",
   "metadata": {
    "execution": {
     "iopub.execute_input": "2022-08-22T05:49:06.815597Z",
     "iopub.status.busy": "2022-08-22T05:49:06.815182Z",
     "iopub.status.idle": "2022-08-22T05:49:06.946664Z",
     "shell.execute_reply": "2022-08-22T05:49:06.945834Z"
    },
    "papermill": {
     "duration": 0.14208,
     "end_time": "2022-08-22T05:49:06.949149",
     "exception": false,
     "start_time": "2022-08-22T05:49:06.807069",
     "status": "completed"
    },
    "tags": []
   },
   "outputs": [],
   "source": [
    "project_data = pd.read_csv('../input/dmart-products/DMart.csv')"
   ]
  },
  {
   "cell_type": "markdown",
   "id": "47262233",
   "metadata": {
    "papermill": {
     "duration": 0.006514,
     "end_time": "2022-08-22T05:49:06.962556",
     "exception": false,
     "start_time": "2022-08-22T05:49:06.956042",
     "status": "completed"
    },
    "tags": []
   },
   "source": [
    "## General Analysis"
   ]
  },
  {
   "cell_type": "code",
   "execution_count": 3,
   "id": "b542135d",
   "metadata": {
    "execution": {
     "iopub.execute_input": "2022-08-22T05:49:06.978246Z",
     "iopub.status.busy": "2022-08-22T05:49:06.977533Z",
     "iopub.status.idle": "2022-08-22T05:49:07.003449Z",
     "shell.execute_reply": "2022-08-22T05:49:07.002244Z"
    },
    "papermill": {
     "duration": 0.036728,
     "end_time": "2022-08-22T05:49:07.006133",
     "exception": false,
     "start_time": "2022-08-22T05:49:06.969405",
     "status": "completed"
    },
    "tags": []
   },
   "outputs": [
    {
     "data": {
      "text/html": [
       "<div>\n",
       "<style scoped>\n",
       "    .dataframe tbody tr th:only-of-type {\n",
       "        vertical-align: middle;\n",
       "    }\n",
       "\n",
       "    .dataframe tbody tr th {\n",
       "        vertical-align: top;\n",
       "    }\n",
       "\n",
       "    .dataframe thead th {\n",
       "        text-align: right;\n",
       "    }\n",
       "</style>\n",
       "<table border=\"1\" class=\"dataframe\">\n",
       "  <thead>\n",
       "    <tr style=\"text-align: right;\">\n",
       "      <th></th>\n",
       "      <th>Name</th>\n",
       "      <th>Brand</th>\n",
       "      <th>Price</th>\n",
       "      <th>DiscountedPrice</th>\n",
       "      <th>Category</th>\n",
       "      <th>SubCategory</th>\n",
       "      <th>Quantity</th>\n",
       "      <th>Description</th>\n",
       "      <th>BreadCrumbs</th>\n",
       "    </tr>\n",
       "  </thead>\n",
       "  <tbody>\n",
       "    <tr>\n",
       "      <th>0</th>\n",
       "      <td>Premia Badam (Almonds)</td>\n",
       "      <td>Premia</td>\n",
       "      <td>451.0</td>\n",
       "      <td>329.0</td>\n",
       "      <td>Grocery</td>\n",
       "      <td>Grocery/Dry Fruits</td>\n",
       "      <td>500 gm</td>\n",
       "      <td>India</td>\n",
       "      <td>Grocery &gt; Grocery/Dry Fruits</td>\n",
       "    </tr>\n",
       "    <tr>\n",
       "      <th>1</th>\n",
       "      <td>Premia Badam (Almonds)</td>\n",
       "      <td>Premia</td>\n",
       "      <td>109.0</td>\n",
       "      <td>85.0</td>\n",
       "      <td>Grocery</td>\n",
       "      <td>Grocery/Dry Fruits</td>\n",
       "      <td>100 gm</td>\n",
       "      <td>India</td>\n",
       "      <td>Grocery &gt; Grocery/Dry Fruits</td>\n",
       "    </tr>\n",
       "    <tr>\n",
       "      <th>2</th>\n",
       "      <td>Premia Badam (Almonds)</td>\n",
       "      <td>Premia</td>\n",
       "      <td>202.0</td>\n",
       "      <td>175.0</td>\n",
       "      <td>Grocery</td>\n",
       "      <td>Grocery/Dry Fruits</td>\n",
       "      <td>200 gm</td>\n",
       "      <td>India</td>\n",
       "      <td>Grocery &gt; Grocery/Dry Fruits</td>\n",
       "    </tr>\n",
       "    <tr>\n",
       "      <th>3</th>\n",
       "      <td>Nutraj California Almonds (Badam)</td>\n",
       "      <td>Nutraj</td>\n",
       "      <td>599.0</td>\n",
       "      <td>349.0</td>\n",
       "      <td>Grocery</td>\n",
       "      <td>Dry Fruits</td>\n",
       "      <td>500 gm</td>\n",
       "      <td>USA</td>\n",
       "      <td>Grocery &gt; Dry Fruits</td>\n",
       "    </tr>\n",
       "    <tr>\n",
       "      <th>4</th>\n",
       "      <td>Nutraj California Almonds (Badam)</td>\n",
       "      <td>Nutraj</td>\n",
       "      <td>1549.0</td>\n",
       "      <td>659.0</td>\n",
       "      <td>Grocery</td>\n",
       "      <td>Dry Fruits</td>\n",
       "      <td>1 kg</td>\n",
       "      <td>USA</td>\n",
       "      <td>Grocery &gt; Dry Fruits</td>\n",
       "    </tr>\n",
       "  </tbody>\n",
       "</table>\n",
       "</div>"
      ],
      "text/plain": [
       "                                Name   Brand   Price  DiscountedPrice  \\\n",
       "0             Premia Badam (Almonds)  Premia   451.0            329.0   \n",
       "1             Premia Badam (Almonds)  Premia   109.0             85.0   \n",
       "2             Premia Badam (Almonds)  Premia   202.0            175.0   \n",
       "3  Nutraj California Almonds (Badam)  Nutraj   599.0            349.0   \n",
       "4  Nutraj California Almonds (Badam)  Nutraj  1549.0            659.0   \n",
       "\n",
       "  Category         SubCategory Quantity Description  \\\n",
       "0  Grocery  Grocery/Dry Fruits   500 gm       India   \n",
       "1  Grocery  Grocery/Dry Fruits   100 gm       India   \n",
       "2  Grocery  Grocery/Dry Fruits   200 gm       India   \n",
       "3  Grocery          Dry Fruits   500 gm         USA   \n",
       "4  Grocery          Dry Fruits     1 kg         USA   \n",
       "\n",
       "                    BreadCrumbs  \n",
       "0  Grocery > Grocery/Dry Fruits  \n",
       "1  Grocery > Grocery/Dry Fruits  \n",
       "2  Grocery > Grocery/Dry Fruits  \n",
       "3          Grocery > Dry Fruits  \n",
       "4          Grocery > Dry Fruits  "
      ]
     },
     "execution_count": 3,
     "metadata": {},
     "output_type": "execute_result"
    }
   ],
   "source": [
    "project_data.head()"
   ]
  },
  {
   "cell_type": "code",
   "execution_count": 4,
   "id": "22ec2199",
   "metadata": {
    "execution": {
     "iopub.execute_input": "2022-08-22T05:49:07.022289Z",
     "iopub.status.busy": "2022-08-22T05:49:07.021820Z",
     "iopub.status.idle": "2022-08-22T05:49:07.038838Z",
     "shell.execute_reply": "2022-08-22T05:49:07.037635Z"
    },
    "papermill": {
     "duration": 0.027702,
     "end_time": "2022-08-22T05:49:07.041347",
     "exception": false,
     "start_time": "2022-08-22T05:49:07.013645",
     "status": "completed"
    },
    "tags": []
   },
   "outputs": [
    {
     "data": {
      "text/html": [
       "<div>\n",
       "<style scoped>\n",
       "    .dataframe tbody tr th:only-of-type {\n",
       "        vertical-align: middle;\n",
       "    }\n",
       "\n",
       "    .dataframe tbody tr th {\n",
       "        vertical-align: top;\n",
       "    }\n",
       "\n",
       "    .dataframe thead th {\n",
       "        text-align: right;\n",
       "    }\n",
       "</style>\n",
       "<table border=\"1\" class=\"dataframe\">\n",
       "  <thead>\n",
       "    <tr style=\"text-align: right;\">\n",
       "      <th></th>\n",
       "      <th>Name</th>\n",
       "      <th>Brand</th>\n",
       "      <th>Price</th>\n",
       "      <th>DiscountedPrice</th>\n",
       "      <th>Category</th>\n",
       "      <th>SubCategory</th>\n",
       "      <th>Quantity</th>\n",
       "      <th>Description</th>\n",
       "      <th>BreadCrumbs</th>\n",
       "    </tr>\n",
       "  </thead>\n",
       "  <tbody>\n",
       "    <tr>\n",
       "      <th>5184</th>\n",
       "      <td>Navneet Youva A4 Notebook - Assorted</td>\n",
       "      <td>Navneet</td>\n",
       "      <td>55.0</td>\n",
       "      <td>36.0</td>\n",
       "      <td>School Supplies</td>\n",
       "      <td>School Needs</td>\n",
       "      <td>1 Book</td>\n",
       "      <td>OverviewEach book has an index page with label...</td>\n",
       "      <td>School Supplies &gt; School Needs</td>\n",
       "    </tr>\n",
       "    <tr>\n",
       "      <th>5185</th>\n",
       "      <td>Navneet Youva Longbook Journal - Assorted</td>\n",
       "      <td>Navneet</td>\n",
       "      <td>85.0</td>\n",
       "      <td>69.0</td>\n",
       "      <td>School Supplies</td>\n",
       "      <td>School Needs</td>\n",
       "      <td>1 Book</td>\n",
       "      <td>OverviewStrong &amp; sturdy case binding. Easy to ...</td>\n",
       "      <td>School Supplies &gt; School Needs</td>\n",
       "    </tr>\n",
       "    <tr>\n",
       "      <th>5186</th>\n",
       "      <td>Navneet Youva Long Notebook - Assorted</td>\n",
       "      <td>Navneet</td>\n",
       "      <td>55.0</td>\n",
       "      <td>40.0</td>\n",
       "      <td>School Supplies</td>\n",
       "      <td>School Needs</td>\n",
       "      <td>1 Book</td>\n",
       "      <td>OverviewAttractive colour and designs. Easy to...</td>\n",
       "      <td>School Supplies &gt; School Needs</td>\n",
       "    </tr>\n",
       "    <tr>\n",
       "      <th>5187</th>\n",
       "      <td>Navneet Youva Drawing Book - Assorted</td>\n",
       "      <td>Navneet</td>\n",
       "      <td>110.0</td>\n",
       "      <td>72.0</td>\n",
       "      <td>School Supplies</td>\n",
       "      <td>School Needs</td>\n",
       "      <td>1 Book</td>\n",
       "      <td>OverviewDrawing book has attractive cover desi...</td>\n",
       "      <td>School Supplies &gt; School Needs</td>\n",
       "    </tr>\n",
       "    <tr>\n",
       "      <th>5188</th>\n",
       "      <td>Navneet Youva Canvas Board (10x12 Inches)</td>\n",
       "      <td>Navneet</td>\n",
       "      <td>90.0</td>\n",
       "      <td>75.0</td>\n",
       "      <td>School Supplies</td>\n",
       "      <td>School Needs</td>\n",
       "      <td>1 U</td>\n",
       "      <td>OverviewCoated with a double layer of acrylic ...</td>\n",
       "      <td>School Supplies &gt; School Needs</td>\n",
       "    </tr>\n",
       "  </tbody>\n",
       "</table>\n",
       "</div>"
      ],
      "text/plain": [
       "                                           Name    Brand  Price  \\\n",
       "5184       Navneet Youva A4 Notebook - Assorted  Navneet   55.0   \n",
       "5185  Navneet Youva Longbook Journal - Assorted  Navneet   85.0   \n",
       "5186     Navneet Youva Long Notebook - Assorted  Navneet   55.0   \n",
       "5187      Navneet Youva Drawing Book - Assorted  Navneet  110.0   \n",
       "5188  Navneet Youva Canvas Board (10x12 Inches)  Navneet   90.0   \n",
       "\n",
       "      DiscountedPrice         Category   SubCategory Quantity  \\\n",
       "5184             36.0  School Supplies  School Needs   1 Book   \n",
       "5185             69.0  School Supplies  School Needs   1 Book   \n",
       "5186             40.0  School Supplies  School Needs   1 Book   \n",
       "5187             72.0  School Supplies  School Needs   1 Book   \n",
       "5188             75.0  School Supplies  School Needs      1 U   \n",
       "\n",
       "                                            Description  \\\n",
       "5184  OverviewEach book has an index page with label...   \n",
       "5185  OverviewStrong & sturdy case binding. Easy to ...   \n",
       "5186  OverviewAttractive colour and designs. Easy to...   \n",
       "5187  OverviewDrawing book has attractive cover desi...   \n",
       "5188  OverviewCoated with a double layer of acrylic ...   \n",
       "\n",
       "                         BreadCrumbs  \n",
       "5184  School Supplies > School Needs  \n",
       "5185  School Supplies > School Needs  \n",
       "5186  School Supplies > School Needs  \n",
       "5187  School Supplies > School Needs  \n",
       "5188  School Supplies > School Needs  "
      ]
     },
     "execution_count": 4,
     "metadata": {},
     "output_type": "execute_result"
    }
   ],
   "source": [
    "project_data.tail()"
   ]
  },
  {
   "cell_type": "code",
   "execution_count": 5,
   "id": "680640c1",
   "metadata": {
    "execution": {
     "iopub.execute_input": "2022-08-22T05:49:07.058051Z",
     "iopub.status.busy": "2022-08-22T05:49:07.057341Z",
     "iopub.status.idle": "2022-08-22T05:49:07.064251Z",
     "shell.execute_reply": "2022-08-22T05:49:07.063299Z"
    },
    "papermill": {
     "duration": 0.018041,
     "end_time": "2022-08-22T05:49:07.066743",
     "exception": false,
     "start_time": "2022-08-22T05:49:07.048702",
     "status": "completed"
    },
    "tags": []
   },
   "outputs": [
    {
     "data": {
      "text/plain": [
       "Index(['Name', 'Brand', 'Price', 'DiscountedPrice', 'Category', 'SubCategory',\n",
       "       'Quantity', 'Description', 'BreadCrumbs'],\n",
       "      dtype='object')"
      ]
     },
     "execution_count": 5,
     "metadata": {},
     "output_type": "execute_result"
    }
   ],
   "source": [
    "project_data.columns"
   ]
  },
  {
   "cell_type": "code",
   "execution_count": 6,
   "id": "8685913e",
   "metadata": {
    "execution": {
     "iopub.execute_input": "2022-08-22T05:49:07.083369Z",
     "iopub.status.busy": "2022-08-22T05:49:07.082963Z",
     "iopub.status.idle": "2022-08-22T05:49:07.110583Z",
     "shell.execute_reply": "2022-08-22T05:49:07.109256Z"
    },
    "papermill": {
     "duration": 0.039687,
     "end_time": "2022-08-22T05:49:07.113848",
     "exception": false,
     "start_time": "2022-08-22T05:49:07.074161",
     "status": "completed"
    },
    "tags": []
   },
   "outputs": [
    {
     "name": "stdout",
     "output_type": "stream",
     "text": [
      "<class 'pandas.core.frame.DataFrame'>\n",
      "RangeIndex: 5189 entries, 0 to 5188\n",
      "Data columns (total 9 columns):\n",
      " #   Column           Non-Null Count  Dtype  \n",
      "---  ------           --------------  -----  \n",
      " 0   Name             5188 non-null   object \n",
      " 1   Brand            4789 non-null   object \n",
      " 2   Price            5188 non-null   float64\n",
      " 3   DiscountedPrice  5188 non-null   float64\n",
      " 4   Category         5186 non-null   object \n",
      " 5   SubCategory      5186 non-null   object \n",
      " 6   Quantity         5188 non-null   object \n",
      " 7   Description      5187 non-null   object \n",
      " 8   BreadCrumbs      5186 non-null   object \n",
      "dtypes: float64(2), object(7)\n",
      "memory usage: 365.0+ KB\n"
     ]
    }
   ],
   "source": [
    "project_data.info()"
   ]
  },
  {
   "cell_type": "code",
   "execution_count": 7,
   "id": "563a0b62",
   "metadata": {
    "execution": {
     "iopub.execute_input": "2022-08-22T05:49:07.131785Z",
     "iopub.status.busy": "2022-08-22T05:49:07.131412Z",
     "iopub.status.idle": "2022-08-22T05:49:07.153090Z",
     "shell.execute_reply": "2022-08-22T05:49:07.152255Z"
    },
    "papermill": {
     "duration": 0.032699,
     "end_time": "2022-08-22T05:49:07.155265",
     "exception": false,
     "start_time": "2022-08-22T05:49:07.122566",
     "status": "completed"
    },
    "tags": []
   },
   "outputs": [
    {
     "data": {
      "text/html": [
       "<div>\n",
       "<style scoped>\n",
       "    .dataframe tbody tr th:only-of-type {\n",
       "        vertical-align: middle;\n",
       "    }\n",
       "\n",
       "    .dataframe tbody tr th {\n",
       "        vertical-align: top;\n",
       "    }\n",
       "\n",
       "    .dataframe thead th {\n",
       "        text-align: right;\n",
       "    }\n",
       "</style>\n",
       "<table border=\"1\" class=\"dataframe\">\n",
       "  <thead>\n",
       "    <tr style=\"text-align: right;\">\n",
       "      <th></th>\n",
       "      <th>Price</th>\n",
       "      <th>DiscountedPrice</th>\n",
       "    </tr>\n",
       "  </thead>\n",
       "  <tbody>\n",
       "    <tr>\n",
       "      <th>count</th>\n",
       "      <td>5188.000000</td>\n",
       "      <td>5188.000000</td>\n",
       "    </tr>\n",
       "    <tr>\n",
       "      <th>mean</th>\n",
       "      <td>344.030360</td>\n",
       "      <td>236.669719</td>\n",
       "    </tr>\n",
       "    <tr>\n",
       "      <th>std</th>\n",
       "      <td>601.034092</td>\n",
       "      <td>387.198716</td>\n",
       "    </tr>\n",
       "    <tr>\n",
       "      <th>min</th>\n",
       "      <td>0.000000</td>\n",
       "      <td>0.000000</td>\n",
       "    </tr>\n",
       "    <tr>\n",
       "      <th>25%</th>\n",
       "      <td>85.000000</td>\n",
       "      <td>64.000000</td>\n",
       "    </tr>\n",
       "    <tr>\n",
       "      <th>50%</th>\n",
       "      <td>175.000000</td>\n",
       "      <td>125.000000</td>\n",
       "    </tr>\n",
       "    <tr>\n",
       "      <th>75%</th>\n",
       "      <td>345.000000</td>\n",
       "      <td>249.000000</td>\n",
       "    </tr>\n",
       "    <tr>\n",
       "      <th>max</th>\n",
       "      <td>10990.000000</td>\n",
       "      <td>7999.000000</td>\n",
       "    </tr>\n",
       "  </tbody>\n",
       "</table>\n",
       "</div>"
      ],
      "text/plain": [
       "              Price  DiscountedPrice\n",
       "count   5188.000000      5188.000000\n",
       "mean     344.030360       236.669719\n",
       "std      601.034092       387.198716\n",
       "min        0.000000         0.000000\n",
       "25%       85.000000        64.000000\n",
       "50%      175.000000       125.000000\n",
       "75%      345.000000       249.000000\n",
       "max    10990.000000      7999.000000"
      ]
     },
     "execution_count": 7,
     "metadata": {},
     "output_type": "execute_result"
    }
   ],
   "source": [
    "project_data.describe()"
   ]
  },
  {
   "cell_type": "markdown",
   "id": "73cec24e",
   "metadata": {
    "papermill": {
     "duration": 0.007865,
     "end_time": "2022-08-22T05:49:07.170972",
     "exception": false,
     "start_time": "2022-08-22T05:49:07.163107",
     "status": "completed"
    },
    "tags": []
   },
   "source": [
    "## Missing Value Analysis"
   ]
  },
  {
   "cell_type": "code",
   "execution_count": 8,
   "id": "0a77770e",
   "metadata": {
    "execution": {
     "iopub.execute_input": "2022-08-22T05:49:07.188710Z",
     "iopub.status.busy": "2022-08-22T05:49:07.188105Z",
     "iopub.status.idle": "2022-08-22T05:49:07.198229Z",
     "shell.execute_reply": "2022-08-22T05:49:07.197299Z"
    },
    "papermill": {
     "duration": 0.022095,
     "end_time": "2022-08-22T05:49:07.200525",
     "exception": false,
     "start_time": "2022-08-22T05:49:07.178430",
     "status": "completed"
    },
    "tags": []
   },
   "outputs": [
    {
     "data": {
      "text/plain": [
       "Name                 1\n",
       "Brand              400\n",
       "Price                1\n",
       "DiscountedPrice      1\n",
       "Category             3\n",
       "SubCategory          3\n",
       "Quantity             1\n",
       "Description          2\n",
       "BreadCrumbs          3\n",
       "dtype: int64"
      ]
     },
     "execution_count": 8,
     "metadata": {},
     "output_type": "execute_result"
    }
   ],
   "source": [
    "project_data.isna().sum()"
   ]
  },
  {
   "cell_type": "code",
   "execution_count": 9,
   "id": "3e793c13",
   "metadata": {
    "execution": {
     "iopub.execute_input": "2022-08-22T05:49:07.218376Z",
     "iopub.status.busy": "2022-08-22T05:49:07.217623Z",
     "iopub.status.idle": "2022-08-22T05:49:07.223684Z",
     "shell.execute_reply": "2022-08-22T05:49:07.222643Z"
    },
    "papermill": {
     "duration": 0.017542,
     "end_time": "2022-08-22T05:49:07.225946",
     "exception": false,
     "start_time": "2022-08-22T05:49:07.208404",
     "status": "completed"
    },
    "tags": []
   },
   "outputs": [
    {
     "data": {
      "text/plain": [
       "(5189, 9)"
      ]
     },
     "execution_count": 9,
     "metadata": {},
     "output_type": "execute_result"
    }
   ],
   "source": [
    "project_data.shape"
   ]
  },
  {
   "cell_type": "code",
   "execution_count": 10,
   "id": "9d65ee73",
   "metadata": {
    "execution": {
     "iopub.execute_input": "2022-08-22T05:49:07.243781Z",
     "iopub.status.busy": "2022-08-22T05:49:07.243137Z",
     "iopub.status.idle": "2022-08-22T05:49:07.248451Z",
     "shell.execute_reply": "2022-08-22T05:49:07.247617Z"
    },
    "papermill": {
     "duration": 0.016807,
     "end_time": "2022-08-22T05:49:07.250634",
     "exception": false,
     "start_time": "2022-08-22T05:49:07.233827",
     "status": "completed"
    },
    "tags": []
   },
   "outputs": [],
   "source": [
    "project_data['Brand'] = project_data['Brand'].fillna('others')"
   ]
  },
  {
   "cell_type": "code",
   "execution_count": 11,
   "id": "dadef9de",
   "metadata": {
    "execution": {
     "iopub.execute_input": "2022-08-22T05:49:07.268850Z",
     "iopub.status.busy": "2022-08-22T05:49:07.268188Z",
     "iopub.status.idle": "2022-08-22T05:49:07.278605Z",
     "shell.execute_reply": "2022-08-22T05:49:07.277364Z"
    },
    "papermill": {
     "duration": 0.022577,
     "end_time": "2022-08-22T05:49:07.281060",
     "exception": false,
     "start_time": "2022-08-22T05:49:07.258483",
     "status": "completed"
    },
    "tags": []
   },
   "outputs": [
    {
     "data": {
      "text/plain": [
       "Name               1\n",
       "Brand              0\n",
       "Price              1\n",
       "DiscountedPrice    1\n",
       "Category           3\n",
       "SubCategory        3\n",
       "Quantity           1\n",
       "Description        2\n",
       "BreadCrumbs        3\n",
       "dtype: int64"
      ]
     },
     "execution_count": 11,
     "metadata": {},
     "output_type": "execute_result"
    }
   ],
   "source": [
    "project_data.isna().sum()"
   ]
  },
  {
   "cell_type": "code",
   "execution_count": 12,
   "id": "9cce83de",
   "metadata": {
    "execution": {
     "iopub.execute_input": "2022-08-22T05:49:07.299561Z",
     "iopub.status.busy": "2022-08-22T05:49:07.299111Z",
     "iopub.status.idle": "2022-08-22T05:49:07.316695Z",
     "shell.execute_reply": "2022-08-22T05:49:07.315730Z"
    },
    "papermill": {
     "duration": 0.029788,
     "end_time": "2022-08-22T05:49:07.319114",
     "exception": false,
     "start_time": "2022-08-22T05:49:07.289326",
     "status": "completed"
    },
    "tags": []
   },
   "outputs": [
    {
     "data": {
      "text/plain": [
       "Name               0\n",
       "Brand              0\n",
       "Price              0\n",
       "DiscountedPrice    0\n",
       "Category           0\n",
       "SubCategory        0\n",
       "Quantity           0\n",
       "Description        0\n",
       "BreadCrumbs        0\n",
       "dtype: int64"
      ]
     },
     "execution_count": 12,
     "metadata": {},
     "output_type": "execute_result"
    }
   ],
   "source": [
    "project_data = project_data.dropna()\n",
    "project_data.isna().sum()"
   ]
  },
  {
   "cell_type": "markdown",
   "id": "3f08e671",
   "metadata": {
    "papermill": {
     "duration": 0.007818,
     "end_time": "2022-08-22T05:49:07.335135",
     "exception": false,
     "start_time": "2022-08-22T05:49:07.327317",
     "status": "completed"
    },
    "tags": []
   },
   "source": [
    "## Bivariate & univariate EDA"
   ]
  },
  {
   "cell_type": "code",
   "execution_count": 13,
   "id": "d6d7f23c",
   "metadata": {
    "execution": {
     "iopub.execute_input": "2022-08-22T05:49:07.354631Z",
     "iopub.status.busy": "2022-08-22T05:49:07.353703Z",
     "iopub.status.idle": "2022-08-22T05:49:07.656986Z",
     "shell.execute_reply": "2022-08-22T05:49:07.655526Z"
    },
    "papermill": {
     "duration": 0.316159,
     "end_time": "2022-08-22T05:49:07.659866",
     "exception": false,
     "start_time": "2022-08-22T05:49:07.343707",
     "status": "completed"
    },
    "tags": []
   },
   "outputs": [
    {
     "data": {
      "text/plain": [
       "others          399\n",
       "Premia          155\n",
       "Faces Canada     99\n",
       "Insight          82\n",
       "Amul             79\n",
       "Lakme            74\n",
       "Satyam           68\n",
       "Gillette         44\n",
       "Britannia        42\n",
       "Lotus            40\n",
       "Name: Brand, dtype: int64"
      ]
     },
     "execution_count": 13,
     "metadata": {},
     "output_type": "execute_result"
    },
    {
     "data": {
      "image/png": "[encoded data removed]",
      "text/plain": [
       "<Figure size 864x576 with 1 Axes>"
      ]
     },
     "metadata": {
      "needs_background": "light"
     },
     "output_type": "display_data"
    }
   ],
   "source": [
    "plt.figure(figsize=(12,8))\n",
    "chart = sns.countplot(x=\"Brand\", data=project_data, order=pd.value_counts(project_data['Brand']).iloc[:10].index)\n",
    "chart.set_xticklabels(chart.get_xticklabels(), rotation=45)\n",
    "project_data['Brand'].value_counts().head(10)"
   ]
  },
  {
   "cell_type": "code",
   "execution_count": 14,
   "id": "865a6bb7",
   "metadata": {
    "execution": {
     "iopub.execute_input": "2022-08-22T05:49:07.679321Z",
     "iopub.status.busy": "2022-08-22T05:49:07.678867Z",
     "iopub.status.idle": "2022-08-22T05:49:07.993447Z",
     "shell.execute_reply": "2022-08-22T05:49:07.992500Z"
    },
    "papermill": {
     "duration": 0.327213,
     "end_time": "2022-08-22T05:49:07.996039",
     "exception": false,
     "start_time": "2022-08-22T05:49:07.668826",
     "status": "completed"
    },
    "tags": []
   },
   "outputs": [
    {
     "data": {
      "text/plain": [
       "60.0     118\n",
       "150.0    110\n",
       "50.0     107\n",
       "99.0      91\n",
       "70.0      86\n",
       "299.0     81\n",
       "199.0     77\n",
       "55.0      76\n",
       "499.0     74\n",
       "90.0      73\n",
       "Name: Price, dtype: int64"
      ]
     },
     "execution_count": 14,
     "metadata": {},
     "output_type": "execute_result"
    },
    {
     "data": {
      "image/png": "[encoded data removed]",
      "text/plain": [
       "<Figure size 864x576 with 1 Axes>"
      ]
     },
     "metadata": {
      "needs_background": "light"
     },
     "output_type": "display_data"
    }
   ],
   "source": [
    "plt.figure(figsize=(12,8))\n",
    "chart = sns.countplot(x=\"Price\", data=project_data, order=pd.value_counts(project_data['Price']).iloc[:20].index)\n",
    "chart.set_xticklabels(chart.get_xticklabels(), rotation=45)\n",
    "project_data['Price'].value_counts().head(10)"
   ]
  },
  {
   "cell_type": "code",
   "execution_count": 15,
   "id": "6f543c38",
   "metadata": {
    "execution": {
     "iopub.execute_input": "2022-08-22T05:49:08.016345Z",
     "iopub.status.busy": "2022-08-22T05:49:08.015897Z",
     "iopub.status.idle": "2022-08-22T05:49:08.282468Z",
     "shell.execute_reply": "2022-08-22T05:49:08.281705Z"
    },
    "papermill": {
     "duration": 0.279332,
     "end_time": "2022-08-22T05:49:08.284665",
     "exception": false,
     "start_time": "2022-08-22T05:49:08.005333",
     "status": "completed"
    },
    "tags": []
   },
   "outputs": [
    {
     "data": {
      "text/plain": [
       "Personal Care             1233\n",
       "Packaged Food             1124\n",
       "Home & Kitchen             879\n",
       "Grocery                    840\n",
       "Dairy & Beverages          429\n",
       "Specials                   187\n",
       "Clothing & Accessories      97\n",
       "Fruits & Vegetables         78\n",
       "School Supplies             69\n",
       "Appliances                  53\n",
       "Name: Category, dtype: int64"
      ]
     },
     "execution_count": 15,
     "metadata": {},
     "output_type": "execute_result"
    },
    {
     "data": {
      "image/png": "[encoded data removed]",
      "text/plain": [
       "<Figure size 864x576 with 1 Axes>"
      ]
     },
     "metadata": {
      "needs_background": "light"
     },
     "output_type": "display_data"
    }
   ],
   "source": [
    "plt.figure(figsize=(12,8))\n",
    "chart = sns.countplot(x=\"Category\", data=project_data, order=pd.value_counts(project_data['Category']).iloc[:10].index)\n",
    "chart.set_xticklabels(chart.get_xticklabels(), rotation=45)\n",
    "project_data['Category'].value_counts().head(10)"
   ]
  },
  {
   "cell_type": "code",
   "execution_count": 16,
   "id": "ab03c2f8",
   "metadata": {
    "execution": {
     "iopub.execute_input": "2022-08-22T05:49:08.306742Z",
     "iopub.status.busy": "2022-08-22T05:49:08.305855Z",
     "iopub.status.idle": "2022-08-22T05:49:08.617136Z",
     "shell.execute_reply": "2022-08-22T05:49:08.616228Z"
    },
    "papermill": {
     "duration": 0.324672,
     "end_time": "2022-08-22T05:49:08.619555",
     "exception": false,
     "start_time": "2022-08-22T05:49:08.294883",
     "status": "completed"
    },
    "tags": []
   },
   "outputs": [
    {
     "data": {
      "text/plain": [
       "<seaborn.axisgrid.FacetGrid at 0x7f7f737dae50>"
      ]
     },
     "execution_count": 16,
     "metadata": {},
     "output_type": "execute_result"
    },
    {
     "data": {
      "text/plain": [
       "<Figure size 864x576 with 0 Axes>"
      ]
     },
     "metadata": {},
     "output_type": "display_data"
    },
    {
     "data": {
      "image/png": "[encoded data removed]",
      "text/plain": [
       "<Figure size 360x360 with 1 Axes>"
      ]
     },
     "metadata": {
      "needs_background": "light"
     },
     "output_type": "display_data"
    }
   ],
   "source": [
    "plt.figure(figsize=(12,8))\n",
    "sns.displot(project_data, x=\"Price\", kind=\"kde\")"
   ]
  },
  {
   "cell_type": "code",
   "execution_count": 17,
   "id": "6cfc3f6a",
   "metadata": {
    "execution": {
     "iopub.execute_input": "2022-08-22T05:49:08.641338Z",
     "iopub.status.busy": "2022-08-22T05:49:08.640629Z",
     "iopub.status.idle": "2022-08-22T05:49:08.937582Z",
     "shell.execute_reply": "2022-08-22T05:49:08.936442Z"
    },
    "papermill": {
     "duration": 0.310671,
     "end_time": "2022-08-22T05:49:08.940160",
     "exception": false,
     "start_time": "2022-08-22T05:49:08.629489",
     "status": "completed"
    },
    "tags": []
   },
   "outputs": [
    {
     "data": {
      "text/plain": [
       "<seaborn.axisgrid.FacetGrid at 0x7f7f737da510>"
      ]
     },
     "execution_count": 17,
     "metadata": {},
     "output_type": "execute_result"
    },
    {
     "data": {
      "text/plain": [
       "<Figure size 864x576 with 0 Axes>"
      ]
     },
     "metadata": {},
     "output_type": "display_data"
    },
    {
     "data": {
      "image/png": "[encoded data removed]",
      "text/plain": [
       "<Figure size 360x360 with 1 Axes>"
      ]
     },
     "metadata": {
      "needs_background": "light"
     },
     "output_type": "display_data"
    }
   ],
   "source": [
    "plt.figure(figsize=(12,8))\n",
    "sns.displot(project_data, x=project_data[\"Category\"].value_counts(), kind=\"kde\")"
   ]
  },
  {
   "cell_type": "code",
   "execution_count": 18,
   "id": "d71f84a1",
   "metadata": {
    "execution": {
     "iopub.execute_input": "2022-08-22T05:49:08.963498Z",
     "iopub.status.busy": "2022-08-22T05:49:08.962673Z",
     "iopub.status.idle": "2022-08-22T05:49:09.257840Z",
     "shell.execute_reply": "2022-08-22T05:49:09.256698Z"
    },
    "papermill": {
     "duration": 0.309629,
     "end_time": "2022-08-22T05:49:09.260567",
     "exception": false,
     "start_time": "2022-08-22T05:49:08.950938",
     "status": "completed"
    },
    "tags": []
   },
   "outputs": [
    {
     "data": {
      "text/plain": [
       "<seaborn.axisgrid.FacetGrid at 0x7f7f73768d10>"
      ]
     },
     "execution_count": 18,
     "metadata": {},
     "output_type": "execute_result"
    },
    {
     "data": {
      "text/plain": [
       "<Figure size 864x576 with 0 Axes>"
      ]
     },
     "metadata": {},
     "output_type": "display_data"
    },
    {
     "data": {
      "image/png": "[encoded data removed]",
      "text/plain": [
       "<Figure size 360x360 with 1 Axes>"
      ]
     },
     "metadata": {
      "needs_background": "light"
     },
     "output_type": "display_data"
    }
   ],
   "source": [
    "plt.figure(figsize=(12,8))\n",
    "sns.displot(project_data, x=project_data[\"Brand\"].value_counts(), kind=\"kde\")"
   ]
  },
  {
   "cell_type": "code",
   "execution_count": 19,
   "id": "6dddabac",
   "metadata": {
    "execution": {
     "iopub.execute_input": "2022-08-22T05:49:09.284847Z",
     "iopub.status.busy": "2022-08-22T05:49:09.284386Z",
     "iopub.status.idle": "2022-08-22T05:49:09.608019Z",
     "shell.execute_reply": "2022-08-22T05:49:09.606626Z"
    },
    "papermill": {
     "duration": 0.33858,
     "end_time": "2022-08-22T05:49:09.610734",
     "exception": false,
     "start_time": "2022-08-22T05:49:09.272154",
     "status": "completed"
    },
    "tags": []
   },
   "outputs": [],
   "source": [
    "brand_price = {}\n",
    "def brand_and_top_price():\n",
    "    for index, row in project_data.iterrows():\n",
    "        if row[\"Brand\"] in brand_price:\n",
    "            if brand_price.get(row[\"Brand\"]) < row[\"Price\"]:\n",
    "                brand_price[row[\"Brand\"]] = row[\"Price\"]\n",
    "        else:\n",
    "            brand_price[row[\"Brand\"]] = row[\"Price\"]\n",
    "            \n",
    "brand_and_top_price()\n",
    "\n",
    "brand_price = dict(sorted(brand_price.items(), key=lambda item: item[1], reverse=True))"
   ]
  },
  {
   "cell_type": "code",
   "execution_count": 20,
   "id": "26aa734b",
   "metadata": {
    "execution": {
     "iopub.execute_input": "2022-08-22T05:49:09.635776Z",
     "iopub.status.busy": "2022-08-22T05:49:09.635161Z",
     "iopub.status.idle": "2022-08-22T05:49:09.994845Z",
     "shell.execute_reply": "2022-08-22T05:49:09.993542Z"
    },
    "papermill": {
     "duration": 0.375441,
     "end_time": "2022-08-22T05:49:09.997406",
     "exception": false,
     "start_time": "2022-08-22T05:49:09.621965",
     "status": "completed"
    },
    "tags": []
   },
   "outputs": [
    {
     "data": {
      "text/html": [
       "<div>\n",
       "<style scoped>\n",
       "    .dataframe tbody tr th:only-of-type {\n",
       "        vertical-align: middle;\n",
       "    }\n",
       "\n",
       "    .dataframe tbody tr th {\n",
       "        vertical-align: top;\n",
       "    }\n",
       "\n",
       "    .dataframe thead th {\n",
       "        text-align: right;\n",
       "    }\n",
       "</style>\n",
       "<table border=\"1\" class=\"dataframe\">\n",
       "  <thead>\n",
       "    <tr style=\"text-align: right;\">\n",
       "      <th></th>\n",
       "      <th>0</th>\n",
       "      <th>1</th>\n",
       "    </tr>\n",
       "  </thead>\n",
       "  <tbody>\n",
       "    <tr>\n",
       "      <th>0</th>\n",
       "      <td>Philips</td>\n",
       "      <td>10990.0</td>\n",
       "    </tr>\n",
       "    <tr>\n",
       "      <th>1</th>\n",
       "      <td>Bathla</td>\n",
       "      <td>8999.0</td>\n",
       "    </tr>\n",
       "    <tr>\n",
       "      <th>2</th>\n",
       "      <td>Godrej</td>\n",
       "      <td>7669.0</td>\n",
       "    </tr>\n",
       "    <tr>\n",
       "      <th>3</th>\n",
       "      <td>Bajaj</td>\n",
       "      <td>6275.0</td>\n",
       "    </tr>\n",
       "    <tr>\n",
       "      <th>4</th>\n",
       "      <td>Wonderchef</td>\n",
       "      <td>6100.0</td>\n",
       "    </tr>\n",
       "    <tr>\n",
       "      <th>5</th>\n",
       "      <td>Morphy Richards</td>\n",
       "      <td>6095.0</td>\n",
       "    </tr>\n",
       "    <tr>\n",
       "      <th>6</th>\n",
       "      <td>Portronics</td>\n",
       "      <td>5999.0</td>\n",
       "    </tr>\n",
       "    <tr>\n",
       "      <th>7</th>\n",
       "      <td>Crompton Greaves</td>\n",
       "      <td>5600.0</td>\n",
       "    </tr>\n",
       "    <tr>\n",
       "      <th>8</th>\n",
       "      <td>Borges</td>\n",
       "      <td>5500.0</td>\n",
       "    </tr>\n",
       "    <tr>\n",
       "      <th>9</th>\n",
       "      <td>Boat</td>\n",
       "      <td>4990.0</td>\n",
       "    </tr>\n",
       "    <tr>\n",
       "      <th>10</th>\n",
       "      <td>Butterfly</td>\n",
       "      <td>4851.0</td>\n",
       "    </tr>\n",
       "    <tr>\n",
       "      <th>11</th>\n",
       "      <td>Figaro</td>\n",
       "      <td>4500.0</td>\n",
       "    </tr>\n",
       "    <tr>\n",
       "      <th>12</th>\n",
       "      <td>Leonardo</td>\n",
       "      <td>4099.0</td>\n",
       "    </tr>\n",
       "    <tr>\n",
       "      <th>13</th>\n",
       "      <td>others</td>\n",
       "      <td>4000.0</td>\n",
       "    </tr>\n",
       "    <tr>\n",
       "      <th>14</th>\n",
       "      <td>Prestige</td>\n",
       "      <td>3945.0</td>\n",
       "    </tr>\n",
       "    <tr>\n",
       "      <th>15</th>\n",
       "      <td>Usha</td>\n",
       "      <td>3890.0</td>\n",
       "    </tr>\n",
       "    <tr>\n",
       "      <th>16</th>\n",
       "      <td>RRO Primio</td>\n",
       "      <td>3750.0</td>\n",
       "    </tr>\n",
       "    <tr>\n",
       "      <th>17</th>\n",
       "      <td>DHomes</td>\n",
       "      <td>3600.0</td>\n",
       "    </tr>\n",
       "    <tr>\n",
       "      <th>18</th>\n",
       "      <td>Pigeon</td>\n",
       "      <td>3595.0</td>\n",
       "    </tr>\n",
       "    <tr>\n",
       "      <th>19</th>\n",
       "      <td>Gulab</td>\n",
       "      <td>3589.0</td>\n",
       "    </tr>\n",
       "  </tbody>\n",
       "</table>\n",
       "</div>"
      ],
      "text/plain": [
       "                   0        1\n",
       "0            Philips  10990.0\n",
       "1             Bathla   8999.0\n",
       "2             Godrej   7669.0\n",
       "3              Bajaj   6275.0\n",
       "4         Wonderchef   6100.0\n",
       "5    Morphy Richards   6095.0\n",
       "6         Portronics   5999.0\n",
       "7   Crompton Greaves   5600.0\n",
       "8             Borges   5500.0\n",
       "9               Boat   4990.0\n",
       "10         Butterfly   4851.0\n",
       "11            Figaro   4500.0\n",
       "12          Leonardo   4099.0\n",
       "13            others   4000.0\n",
       "14          Prestige   3945.0\n",
       "15              Usha   3890.0\n",
       "16        RRO Primio   3750.0\n",
       "17            DHomes   3600.0\n",
       "18            Pigeon   3595.0\n",
       "19             Gulab   3589.0"
      ]
     },
     "execution_count": 20,
     "metadata": {},
     "output_type": "execute_result"
    },
    {
     "data": {
      "image/png": "[encoded data removed]",
      "text/plain": [
       "<Figure size 1080x576 with 1 Axes>"
      ]
     },
     "metadata": {
      "needs_background": "light"
     },
     "output_type": "display_data"
    }
   ],
   "source": [
    "my_df = pd.DataFrame(brand_price.items())[:20]\n",
    "plt.figure(figsize=(15,8))\n",
    "ax = sns.barplot(x=0, y=1, data=my_df)\n",
    "ax.set(xlabel = 'Brand', ylabel='Price', title='Top Price in Every Brand')\n",
    "ax.set_xticklabels(ax.get_xticklabels(), rotation=45)\n",
    "my_df.head(20)"
   ]
  },
  {
   "cell_type": "code",
   "execution_count": 21,
   "id": "26dcbdd7",
   "metadata": {
    "execution": {
     "iopub.execute_input": "2022-08-22T05:49:10.024501Z",
     "iopub.status.busy": "2022-08-22T05:49:10.022320Z",
     "iopub.status.idle": "2022-08-22T05:49:10.339200Z",
     "shell.execute_reply": "2022-08-22T05:49:10.337739Z"
    },
    "papermill": {
     "duration": 0.33342,
     "end_time": "2022-08-22T05:49:10.342690",
     "exception": false,
     "start_time": "2022-08-22T05:49:10.009270",
     "status": "completed"
    },
    "tags": []
   },
   "outputs": [],
   "source": [
    "category_price = {}\n",
    "def category_and_top_price():\n",
    "    for index, row in project_data.iterrows():\n",
    "        if row[\"Category\"] in category_price:\n",
    "            if category_price.get(row[\"Category\"]) < row[\"Price\"]:\n",
    "                category_price[row[\"Category\"]] = row[\"Price\"]\n",
    "        else:\n",
    "            category_price[row[\"Category\"]] = row[\"Price\"]\n",
    "            \n",
    "category_and_top_price()\n",
    "\n",
    "category_price = dict(sorted(category_price.items(), key=lambda item: item[1], reverse=True))"
   ]
  },
  {
   "cell_type": "code",
   "execution_count": 22,
   "id": "715868df",
   "metadata": {
    "execution": {
     "iopub.execute_input": "2022-08-22T05:49:10.370147Z",
     "iopub.status.busy": "2022-08-22T05:49:10.369741Z",
     "iopub.status.idle": "2022-08-22T05:49:10.751639Z",
     "shell.execute_reply": "2022-08-22T05:49:10.750456Z"
    },
    "papermill": {
     "duration": 0.398416,
     "end_time": "2022-08-22T05:49:10.754230",
     "exception": false,
     "start_time": "2022-08-22T05:49:10.355814",
     "status": "completed"
    },
    "tags": []
   },
   "outputs": [
    {
     "data": {
      "text/html": [
       "<div>\n",
       "<style scoped>\n",
       "    .dataframe tbody tr th:only-of-type {\n",
       "        vertical-align: middle;\n",
       "    }\n",
       "\n",
       "    .dataframe tbody tr th {\n",
       "        vertical-align: top;\n",
       "    }\n",
       "\n",
       "    .dataframe thead th {\n",
       "        text-align: right;\n",
       "    }\n",
       "</style>\n",
       "<table border=\"1\" class=\"dataframe\">\n",
       "  <thead>\n",
       "    <tr style=\"text-align: right;\">\n",
       "      <th></th>\n",
       "      <th>0</th>\n",
       "      <th>1</th>\n",
       "    </tr>\n",
       "  </thead>\n",
       "  <tbody>\n",
       "    <tr>\n",
       "      <th>0</th>\n",
       "      <td>Home &amp; Kitchen</td>\n",
       "      <td>10990.0</td>\n",
       "    </tr>\n",
       "    <tr>\n",
       "      <th>1</th>\n",
       "      <td>Appliances</td>\n",
       "      <td>6275.0</td>\n",
       "    </tr>\n",
       "    <tr>\n",
       "      <th>2</th>\n",
       "      <td>Smartwatches</td>\n",
       "      <td>5999.0</td>\n",
       "    </tr>\n",
       "    <tr>\n",
       "      <th>3</th>\n",
       "      <td>Grocery</td>\n",
       "      <td>5500.0</td>\n",
       "    </tr>\n",
       "    <tr>\n",
       "      <th>4</th>\n",
       "      <td>Wonderchef</td>\n",
       "      <td>5300.0</td>\n",
       "    </tr>\n",
       "    <tr>\n",
       "      <th>5</th>\n",
       "      <td>Specials</td>\n",
       "      <td>4990.0</td>\n",
       "    </tr>\n",
       "    <tr>\n",
       "      <th>6</th>\n",
       "      <td>Butterfly</td>\n",
       "      <td>4851.0</td>\n",
       "    </tr>\n",
       "    <tr>\n",
       "      <th>7</th>\n",
       "      <td>Pigeon</td>\n",
       "      <td>3595.0</td>\n",
       "    </tr>\n",
       "    <tr>\n",
       "      <th>8</th>\n",
       "      <td>Backpacks</td>\n",
       "      <td>3500.0</td>\n",
       "    </tr>\n",
       "    <tr>\n",
       "      <th>9</th>\n",
       "      <td>School Supplies</td>\n",
       "      <td>2699.0</td>\n",
       "    </tr>\n",
       "    <tr>\n",
       "      <th>10</th>\n",
       "      <td>Dairy &amp; Beverages</td>\n",
       "      <td>2300.0</td>\n",
       "    </tr>\n",
       "    <tr>\n",
       "      <th>11</th>\n",
       "      <td>Personal Care</td>\n",
       "      <td>1999.0</td>\n",
       "    </tr>\n",
       "    <tr>\n",
       "      <th>12</th>\n",
       "      <td>Raincoat</td>\n",
       "      <td>1700.0</td>\n",
       "    </tr>\n",
       "    <tr>\n",
       "      <th>13</th>\n",
       "      <td>Packaged Food</td>\n",
       "      <td>1675.0</td>\n",
       "    </tr>\n",
       "    <tr>\n",
       "      <th>14</th>\n",
       "      <td>Zebronics</td>\n",
       "      <td>1299.0</td>\n",
       "    </tr>\n",
       "    <tr>\n",
       "      <th>15</th>\n",
       "      <td>Motorbike Helmets</td>\n",
       "      <td>1295.0</td>\n",
       "    </tr>\n",
       "    <tr>\n",
       "      <th>16</th>\n",
       "      <td>Joyo Plastics</td>\n",
       "      <td>1265.0</td>\n",
       "    </tr>\n",
       "    <tr>\n",
       "      <th>17</th>\n",
       "      <td>Beauty &amp; Cosmetics</td>\n",
       "      <td>1050.0</td>\n",
       "    </tr>\n",
       "    <tr>\n",
       "      <th>18</th>\n",
       "      <td>Water Purifiers &amp; Accessories</td>\n",
       "      <td>875.0</td>\n",
       "    </tr>\n",
       "    <tr>\n",
       "      <th>19</th>\n",
       "      <td>DMart Grocery</td>\n",
       "      <td>850.0</td>\n",
       "    </tr>\n",
       "  </tbody>\n",
       "</table>\n",
       "</div>"
      ],
      "text/plain": [
       "                                0        1\n",
       "0                  Home & Kitchen  10990.0\n",
       "1                      Appliances   6275.0\n",
       "2                    Smartwatches   5999.0\n",
       "3                         Grocery   5500.0\n",
       "4                      Wonderchef   5300.0\n",
       "5                        Specials   4990.0\n",
       "6                       Butterfly   4851.0\n",
       "7                          Pigeon   3595.0\n",
       "8                       Backpacks   3500.0\n",
       "9                 School Supplies   2699.0\n",
       "10              Dairy & Beverages   2300.0\n",
       "11                  Personal Care   1999.0\n",
       "12                       Raincoat   1700.0\n",
       "13                  Packaged Food   1675.0\n",
       "14                      Zebronics   1299.0\n",
       "15              Motorbike Helmets   1295.0\n",
       "16                  Joyo Plastics   1265.0\n",
       "17             Beauty & Cosmetics   1050.0\n",
       "18  Water Purifiers & Accessories    875.0\n",
       "19                  DMart Grocery    850.0"
      ]
     },
     "execution_count": 22,
     "metadata": {},
     "output_type": "execute_result"
    },
    {
     "data": {
      "image/png": "[encoded data removed]",
      "text/plain": [
       "<Figure size 1080x576 with 1 Axes>"
      ]
     },
     "metadata": {
      "needs_background": "light"
     },
     "output_type": "display_data"
    }
   ],
   "source": [
    "my_df = pd.DataFrame(category_price.items())[:20]\n",
    "plt.figure(figsize=(15,8))\n",
    "ax = sns.barplot(x=0, y=1, data=my_df)\n",
    "ax.set(xlabel = 'Brand', ylabel='Price', title='Top Price in Every Category')\n",
    "ax.set_xticklabels(ax.get_xticklabels(), rotation=45)\n",
    "my_df.head(20)"
   ]
  },
  {
   "cell_type": "code",
   "execution_count": 23,
   "id": "0fd7f159",
   "metadata": {
    "execution": {
     "iopub.execute_input": "2022-08-22T05:49:10.782344Z",
     "iopub.status.busy": "2022-08-22T05:49:10.781271Z",
     "iopub.status.idle": "2022-08-22T05:49:10.806352Z",
     "shell.execute_reply": "2022-08-22T05:49:10.805025Z"
    },
    "papermill": {
     "duration": 0.041736,
     "end_time": "2022-08-22T05:49:10.808854",
     "exception": false,
     "start_time": "2022-08-22T05:49:10.767118",
     "status": "completed"
    },
    "tags": []
   },
   "outputs": [
    {
     "data": {
      "text/html": [
       "<div>\n",
       "<style scoped>\n",
       "    .dataframe tbody tr th:only-of-type {\n",
       "        vertical-align: middle;\n",
       "    }\n",
       "\n",
       "    .dataframe tbody tr th {\n",
       "        vertical-align: top;\n",
       "    }\n",
       "\n",
       "    .dataframe thead th {\n",
       "        text-align: right;\n",
       "    }\n",
       "</style>\n",
       "<table border=\"1\" class=\"dataframe\">\n",
       "  <thead>\n",
       "    <tr style=\"text-align: right;\">\n",
       "      <th></th>\n",
       "      <th></th>\n",
       "      <th>Price</th>\n",
       "      <th>DiscountedPrice</th>\n",
       "    </tr>\n",
       "    <tr>\n",
       "      <th>SubCategory</th>\n",
       "      <th>Quantity</th>\n",
       "      <th></th>\n",
       "      <th></th>\n",
       "    </tr>\n",
       "  </thead>\n",
       "  <tbody>\n",
       "    <tr>\n",
       "      <th rowspan=\"3\" valign=\"top\">Appliances</th>\n",
       "      <th>1 U</th>\n",
       "      <td>3028.0</td>\n",
       "      <td>1150.0</td>\n",
       "    </tr>\n",
       "    <tr>\n",
       "      <th>1 Unit</th>\n",
       "      <td>331.0</td>\n",
       "      <td>249.0</td>\n",
       "    </tr>\n",
       "    <tr>\n",
       "      <th>4 Unit</th>\n",
       "      <td>190.0</td>\n",
       "      <td>170.0</td>\n",
       "    </tr>\n",
       "    <tr>\n",
       "      <th rowspan=\"17\" valign=\"top\">Baby &amp; Kids</th>\n",
       "      <th>10 U</th>\n",
       "      <td>2275.0</td>\n",
       "      <td>1698.0</td>\n",
       "    </tr>\n",
       "    <tr>\n",
       "      <th>100 ml</th>\n",
       "      <td>138.0</td>\n",
       "      <td>90.0</td>\n",
       "    </tr>\n",
       "    <tr>\n",
       "      <th>120 U</th>\n",
       "      <td>3148.0</td>\n",
       "      <td>2098.0</td>\n",
       "    </tr>\n",
       "    <tr>\n",
       "      <th>125 gm</th>\n",
       "      <td>80.0</td>\n",
       "      <td>65.0</td>\n",
       "    </tr>\n",
       "    <tr>\n",
       "      <th>200 ml</th>\n",
       "      <td>470.0</td>\n",
       "      <td>325.0</td>\n",
       "    </tr>\n",
       "    <tr>\n",
       "      <th>24 U</th>\n",
       "      <td>210.0</td>\n",
       "      <td>178.0</td>\n",
       "    </tr>\n",
       "    <tr>\n",
       "      <th>28 U</th>\n",
       "      <td>799.0</td>\n",
       "      <td>599.0</td>\n",
       "    </tr>\n",
       "    <tr>\n",
       "      <th>2x75 gm</th>\n",
       "      <td>249.0</td>\n",
       "      <td>199.0</td>\n",
       "    </tr>\n",
       "    <tr>\n",
       "      <th>30 U</th>\n",
       "      <td>399.0</td>\n",
       "      <td>298.0</td>\n",
       "    </tr>\n",
       "    <tr>\n",
       "      <th>300 gm</th>\n",
       "      <td>864.0</td>\n",
       "      <td>864.0</td>\n",
       "    </tr>\n",
       "    <tr>\n",
       "      <th>34 U</th>\n",
       "      <td>1198.0</td>\n",
       "      <td>898.0</td>\n",
       "    </tr>\n",
       "    <tr>\n",
       "      <th>36 U</th>\n",
       "      <td>1149.0</td>\n",
       "      <td>810.0</td>\n",
       "    </tr>\n",
       "    <tr>\n",
       "      <th>3x150 gm</th>\n",
       "      <td>345.0</td>\n",
       "      <td>285.0</td>\n",
       "    </tr>\n",
       "    <tr>\n",
       "      <th>3x75 gm</th>\n",
       "      <td>160.0</td>\n",
       "      <td>135.0</td>\n",
       "    </tr>\n",
       "    <tr>\n",
       "      <th>40 U</th>\n",
       "      <td>699.0</td>\n",
       "      <td>495.0</td>\n",
       "    </tr>\n",
       "    <tr>\n",
       "      <th>400 gm</th>\n",
       "      <td>495.0</td>\n",
       "      <td>380.0</td>\n",
       "    </tr>\n",
       "    <tr>\n",
       "      <th>400 ml</th>\n",
       "      <td>1917.0</td>\n",
       "      <td>1377.0</td>\n",
       "    </tr>\n",
       "  </tbody>\n",
       "</table>\n",
       "</div>"
      ],
      "text/plain": [
       "                       Price  DiscountedPrice\n",
       "SubCategory Quantity                         \n",
       "Appliances  1 U       3028.0           1150.0\n",
       "            1 Unit     331.0            249.0\n",
       "            4 Unit     190.0            170.0\n",
       "Baby & Kids 10 U      2275.0           1698.0\n",
       "            100 ml     138.0             90.0\n",
       "            120 U     3148.0           2098.0\n",
       "            125 gm      80.0             65.0\n",
       "            200 ml     470.0            325.0\n",
       "            24 U       210.0            178.0\n",
       "            28 U       799.0            599.0\n",
       "            2x75 gm    249.0            199.0\n",
       "            30 U       399.0            298.0\n",
       "            300 gm     864.0            864.0\n",
       "            34 U      1198.0            898.0\n",
       "            36 U      1149.0            810.0\n",
       "            3x150 gm   345.0            285.0\n",
       "            3x75 gm    160.0            135.0\n",
       "            40 U       699.0            495.0\n",
       "            400 gm     495.0            380.0\n",
       "            400 ml    1917.0           1377.0"
      ]
     },
     "execution_count": 23,
     "metadata": {},
     "output_type": "execute_result"
    }
   ],
   "source": [
    "project_data.groupby(by=[\"SubCategory\",\"Quantity\"], dropna=False, sort=True).sum().head(20)"
   ]
  },
  {
   "cell_type": "code",
   "execution_count": 24,
   "id": "9e6a95b6",
   "metadata": {
    "execution": {
     "iopub.execute_input": "2022-08-22T05:49:10.837713Z",
     "iopub.status.busy": "2022-08-22T05:49:10.836919Z",
     "iopub.status.idle": "2022-08-22T05:49:11.300193Z",
     "shell.execute_reply": "2022-08-22T05:49:11.299054Z"
    },
    "papermill": {
     "duration": 0.480577,
     "end_time": "2022-08-22T05:49:11.302834",
     "exception": false,
     "start_time": "2022-08-22T05:49:10.822257",
     "status": "completed"
    },
    "tags": []
   },
   "outputs": [
    {
     "data": {
      "text/plain": [
       "<AxesSubplot:xlabel='Price', ylabel='Density'>"
      ]
     },
     "execution_count": 24,
     "metadata": {},
     "output_type": "execute_result"
    },
    {
     "data": {
      "image/png": "[encoded data removed]",
      "text/plain": [
       "<Figure size 1080x576 with 1 Axes>"
      ]
     },
     "metadata": {
      "needs_background": "light"
     },
     "output_type": "display_data"
    }
   ],
   "source": [
    "plt.figure(figsize=(15,8))\n",
    "sns.distplot(project_data[\"DiscountedPrice\"],color='black')\n",
    "sns.distplot(project_data[\"Price\"],color='red')"
   ]
  }
 ],
 "metadata": {
  "kernelspec": {
   "display_name": "Python 3",
   "language": "python",
   "name": "python3"
  },
  "language_info": {
   "codemirror_mode": {
    "name": "ipython",
    "version": 3
   },
   "file_extension": ".py",
   "mimetype": "text/x-python",
   "name": "python",
   "nbconvert_exporter": "python",
   "pygments_lexer": "ipython3",
   "version": "3.7.12"
  },
  "papermill": {
   "default_parameters": {},
   "duration": 16.04513,
   "end_time": "2022-08-22T05:49:12.139509",
   "environment_variables": {},
   "exception": null,
   "input_path": "__notebook__.ipynb",
   "output_path": "__notebook__.ipynb",
   "parameters": {},
   "start_time": "2022-08-22T05:48:56.094379",
   "version": "2.3.4"
  }
 },
 "nbformat": 4,
 "nbformat_minor": 5
}
